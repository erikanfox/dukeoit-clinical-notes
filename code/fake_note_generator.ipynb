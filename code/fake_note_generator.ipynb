{
 "cells": [
  {
   "cell_type": "code",
   "execution_count": 50,
   "metadata": {},
   "outputs": [],
   "source": [
    "from random import choice,randint\n",
    "import pandas as pd\n",
    "import string"
   ]
  },
  {
   "cell_type": "code",
   "execution_count": 51,
   "metadata": {},
   "outputs": [],
   "source": [
    "# actual note types\n",
    "\n",
    "types=['OBGYN', 'PRIMARY CARE', 'INFECTIOUS DISEASES',\n",
    "       'ORTHOPEDIC SURGERY', 'PEDIATRICS', 'PEDIATRIC NEUROLOGY',\n",
    "       'PSYCHIATRY', 'OTOLARYNGOLOGY', 'ONCOLOGY', 'NEUROLOGY',\n",
    "       'EMERGENCY MEDICINE', 'ANESTHESIOLOGY', 'GENERAL SURGERY',\n",
    "       'PEDIATRIC NEONATOLOGY AND PERINATOLOGY',\n",
    "       'PEDIATRIC ENDOCRINOLOGY', 'ENDOCRINOLOGY', 'WOUND CARE',\n",
    "       'PEDIATRIC HEMATOLOGY AND ONCOLOGY', 'PULMONARY DISEASE',\n",
    "       'PEDIATRIC ALLERGY AND IMMUNOLOGY', 'INTENSIVE CARE',\n",
    "       'PEDIATRIC INFECTIOUS DISEASE', 'CARDIO-THORACIC SURGERY',\n",
    "       'CARDIOLOGY', 'RHEUMATOLOGY', 'HEMATOLOGY AND ONCOLOGY',\n",
    "       'GASTROENTEROLOGY', 'TRANSPLANT', 'VASCULAR SURGERY',\n",
    "       'CARDIOVASCULAR DISEASE', 'TRAUMA SURGERY', 'GYNECOLOGIC ONCOLOGY',\n",
    "       'PALLIATIVE CARE MEDICINE', 'DERMATOLOGY', 'PEDIATRIC PULMONOLOGY',\n",
    "       'PEDIATRIC CARDIOLOGY', 'PEDIATRIC NEPHROLOGY', 'NEUROSURGERY',\n",
    "       'UROLOGIC SURGERY', 'PEDIATRIC GASTROENTEROLOGY',\n",
    "       'PEDIATRIC SURGERY', 'SURGICAL ONCOLOGY', 'OPHTHALMOLOGY',\n",
    "       'PEDIATRIC EMERGENCY MEDICINE', 'PLASTIC SURGERY',\n",
    "       'PEDIATRIC GENETICS', 'PEDIATRIC OTOLARYNGOLOGY', 'NEPHROLOGY',\n",
    "       'CHILD AND ADOLESCENT PSYCHIATRY', 'CRITICAL CARE MEDICINE',\n",
    "       'DEVELOPMENTAL AND BEHAVIORAL PEDIATRICS', 'PULMONOLOGY',\n",
    "       'HYPERBARIC MEDICINE', 'CARDIOTHORACIC SURGERY',\n",
    "       'PED BONE MARROW TRAN', 'PEDIATRIC ALLERGY', 'GERIATRIC MEDICINE',\n",
    "       'CARDIAC ELECTROPHYSIOLOGY', 'ORAL SURGERY',\n",
    "       'PED INFECT. DISEASES', 'ORTHOPEDICS', 'ALLERGY & IMMUNOLOGY',\n",
    "       'COLON AND RECTAL SURGERY', 'MEDICAL GENETICS', 'DIETICIAN',\n",
    "       'PED RHEUMATOLOGY', 'PEDIATRIC RHEUMATOLOGY', 'PED CRITICAL CARE',\n",
    "       'PEDIATRIC SEMI-PRIVATE', \"WOMEN'S HEALTH\", 'RADIATION ONCOLOGY',\n",
    "       'RADIOLOGY', 'BONE MARROW TRANSPLANT', 'SPORTS MEDICINE',\n",
    "       'HEALTH AND FITNESS', 'PEDIATRIC PLASTIC SURGERY', 'NEWBORN',\n",
    "       'MATERNAL-FETAL MEDICINE', 'HEALTHY LIFESTYLES',\n",
    "       'MEDICAL NEURO-ONCOLOGY', 'COVID VACCINATION', 'GERIATRICS',\n",
    "       'NUCLEAR MEDICINE', 'THORACIC SURGERY (CEDS)',\n",
    "       'PEDIATRIC CRITICAL CARE MEDICINE', 'ORTHOPAEDICS',\n",
    "       'SELECT SPECIALTY', 'BARIATRIC SURGERY', 'PSYCHOLOGY',\n",
    "       'ORTHOPAEDICS TRAUMA']"
   ]
  },
  {
   "cell_type": "code",
   "execution_count": 52,
   "metadata": {},
   "outputs": [],
   "source": [
    "# lists of headers to choose from for each section\n",
    "\n",
    "sub_headers=[\"Brief History of Present ,Illness:\",\"Chief Complaint\",\"Subjective\"]\n",
    "obj_headers=[\"Objective\",\"Physical exam:  Temp:\",\"Record of Physical Exams ,and NIH Stroke Scales\"]\n",
    "ass_headers=[\"Assessment\",\"ASSESSMENT\"]\n",
    "plan_headers=[\"Plan\",\"PLAN\",\"Coordination of Care\",\"Recommendations\"]\n",
    "ap_headers=[\"Assessment and Plan\",\"Assessments and Plans\",\"Assessment and Recommendations\"]\n",
    "diags=[\"#Asthma\",\"#COVID19\",\"#Anxiety\",\"#Cancer\"]"
   ]
  },
  {
   "cell_type": "code",
   "execution_count": 53,
   "metadata": {},
   "outputs": [
    {
     "data": {
      "text/plain": [
       "['General: Child appears age appropriate. Vitals noted and stable. Skin: Normal turgor and without lesions. Head:  Normocephalic. Eyes: Conjunctivae noninjected; sclerae anicteric; lids without ptosis, edema, or erythema; extraocular movements intact; pupils equal, round, and reactive to light. Red reflex present bilaterally. Symmetric light reflex. ENT: TMs gray, sharp landmarks, mobile. Nose clear. Palate is complete. Dentition normal for age. Tonsils small and non-inflamed bilaterally. Lymph Nodes: No significant lymphadenopathy. Thyroid: No thyromegaly; trachea midline without masses. Breasts: Without lesions or drainage. Heart: Regular rate and rhythm; normal S1 and S2; no murmurs, gallops, or rubs.  Lungs: Unlabored respirations; symmetric chest expansion; clear breath sounds; no wheezes, crackles, rales, rhonchi, or retractions. Abdomen: Soft, without organomegaly. Bowel sounds normal. Non-tender without rebound. No masses palpable. No distention. Genitalia: Normal female external genitalia. Spine: Straight with no lesions. Joints: Full range of motion about all joints. Extremities:  Peripheral pulses are equal. There is no clubbing, cyanosis or edema of the extremities. Capillary refill is less than 2 seconds. Gait: Normal and appropriate gait for age. Mental Status: Alert and in no distress. Appropriate for age. Neuro: Normal reflexes; normal tone; no focal deficits appreciated. Appropriate for age.  ',\n",
       " 'Back Pain General Appearance:  No distress.  Patient able to ambulate well.  Gait is not antalgic. Straight leg raising negative bilaterally for radicular symptoms. Sensory exam in the legs is normal.  Knee reflexes are normal and symmetric. Ankle reflexes are normal and symmetric Strength is normal and symmetric. No paraspinal muscle spasm.  There is no midline tenderness.  ROM of spine with normal flexion, extension, lateral range of motion to the right and left, and rotation to the right and left.\\n',\n",
       " 'General Adult Exam GENERAL APPEARANCE: Well developed, well nourished, alert and cooperative, and appears to be in no acute distress. HEAD: normocephalic. EYES: PERRL, EOMI. Fundi normal, vision is grossly intact. EARS: External auditory canals and tympanic membranes clear, hearing grossly intact. NOSE: No nasal discharge. THROAT: Oral cavity and pharynx normal. No inflammation, swelling, exudate, or lesions. Teeth and gingiva in good general condition. NECK: Neck supple, non-tender without lymphadenopathy, masses or thyromegaly. CARDIAC: Normal S1 and S2. No S3, S4 or murmurs. Rhythm is regular. There is no peripheral edema, cyanosis or pallor. Extremities are warm and well perfused. Capillary refill is less than 2 seconds. No carotid bruits. LUNGS: Clear to auscultation and percussion without rales, rhonchi, wheezing or diminished breath sounds. ABDOMEN: Positive bowel sounds. Soft, nondistended, nontender. No guarding or rebound. No masses. MUSKULOSKELETAL: Adequately aligned spine. ROM intact spine and extremities. No joint erythema or tenderness. Normal muscular development. Normal gait. BACK: Examination of the spine reveals normal gait and posture, no spinal deformity, symmetry of spinal muscles, without tenderness, decreased range of motion or muscular spasm. EXTREMITIES: No significant deformity or joint abnormality. No edema. Peripheral pulses intact. No varicosities. LOWER EXTREMITY: Examination of both feet reveals all toes to be normal in size and symmetry, normal range of motion, normal sensation with distal capillary filling of less than 2 seconds without tenderness, swelling, discoloration, nodules, weakness or deformity; examination of both ankles, knees, legs, and hips reveals normal range of motion, normal sensation without tenderness, swelling, discoloration, crepitus, weakness or deformity. NEUROLOGICAL: CN II-XII intact. Strength and sensation symmetric and intact throughout. Reflexes 2+ throughout. Cerebellar testing normal. SKIN: Skin normal color, texture and turgor with no lesions or eruptions. PSYCHIATRIC: The mental examination revealed the patient was oriented to person, place, and time. The patient was able to demonstrate good judgement and reason, without hallucinations, abnormal affect or abnormal behaviors during the examination. Patient is not suicidal.\\n',\n",
       " 'General Appearance: alert, NAD. Nose: normal, mucosa without edema or inflammation. No clear or purulent nasal discharge. Ears: TMs bilaterally intact, without bulging or erythema. Eyes: normal conjunctiva, lids, PERRL Throat: normal, without erythema, tonsillar inflammation or exudate. No posterior pharyngeal drainage Lungs: clear to ausculation bilaterally. No wheezes or crackles. Heart: RR; no murmur/click, S3/S4 General Appearance: well hydrated, alert, in no acute distress. BACK: no CVAT ABDOMEN: Soft, tender over the suprapubic area without masses or hepatosplenomegaly. Not distended. Pelvis: normal, without perineal erythema, vaginal discharge, or adnexal abnormality. no cervical motion tenderness. Dip UA shows no nitrite, leukocytes, or protein.\\n',\n",
       " 'General Appearance: NAD Visual acuity: Normal, Snellen results as recorded by nurse Left eye exam: normal, PERRL, extraocular movements normal. Conjunctiva without injection. Mattering and excessive tearing is absent. No visible corneal abrasion or foreign body. Eyelids normal. Fundus normal. Right eye exam: normal, PERRL, extraocular movements normal. Conjunctiva without injection. Mattering and excessive tearing is absent. No visible corneal abrasion or foreign body. Eyelids normal. Fundus normal. Fluorescein exam of affected eye is normal, without corneal abrasion. General Appearance: well hydrated, alert, in no acute distress. BACK: no CVAT ABDOMEN: Soft, tender over the suprapubic area without masses or hepatosplenomegaly. Not distended. Pelvis: normal, without perineal erythema, vaginal discharge, or adnexal abnormality. no cervical motion tenderness. Dip UA shows no nitrite, leukocytes, or protein.\\n',\n",
       " 'General: Patient is alert and in no acute distress. ENT: No tonsillar hypertrophy or exudate. No erythema at posterior pharynx. External examination of the ears and nose is normal. Right tympanic membrane is intact without fluid or erythema. Left tympanic membrane: is intact without fluid or erythema. Lymph Nodes: no anterior cervical adenopathy. no posterior cervical adenopathy. Heart: RR; no murmur/click, S3/S4 Lungs: clear to auscultation and percussion bilaterally, no rhonchi or wheezes. Chest x-ray: negative for focal infiltrate, no bronchial inflammation, no bilateral perihilar infiltrates General Appearance: well hydrated, alert, in no acute distress. BACK: no CVAT ABDOMEN: Soft, tender over the suprapubic area without masses or hepatosplenomegaly. Not distended. Pelvis: normal, without perineal erythema, vaginal discharge, or adnexal abnormality. no cervical motion tenderness. Dip UA shows no nitrite, leukocytes, or protein.\\n',\n",
       " 'ID: smoker,asthmatic,COPD HPI: O: sudden, post viral , gradual D:acute or chronic > 8 weeks F: Dry/ Productive - pneumonia Painful/painless Medications:ACE, inhalers Pertinent Negatives COPD: non smoker, pk year, CHF: no  SOBOE,orthopnea, PND Viral Pharyngitis/ common cold Strep throat/ bacterial phryngitis: pain, centor score Asthma:  no history of atopy, not worse at night in the cold, with exercise, no wheeze, dyspnea, no puffer Pneumonia: no fever, purulent sputum, SOB, chest pain or pleurisy, Sinusitis: No frontal headache, maxillary or frontal sinus pressure, coryza, dental pain, fever GERD : no heartburn or  reflux, unrelated to meals, Foreign body: no unobserved sudden onset PE: No hemoptysis, leg pain, or history of immobilization Cancer: no weight loss, night sweats,  NO Red Flags including SOB Hemoptysis Exposure to chemicals, TB, HIV Weight loss\\n',\n",
       " \"Mental Status Examination:  Appearance -general: alert and oriented in all spheres,appears to be of chronological age. Appearance - accessibility:cooperative. Appearance - grooming: Average/WNL.  Appearance - clothing: clean,appropriate for season,appropriate for setting.  Appearance - hygiene: clean. Appearance - build: average height,average weight.  Appearance - facial expression: casual(normal). Psycho-motor activity - abnormal movements: none.  Psychomotor activity - rate/gait: normal. Psycho-motor activity - Coordination: normal/no problems. Psycho-motor activity - posture: quietly seated. Speech: normal rate and volume. Speech - clarity: clear. Speech - quantity: within normal limits.  Mood observed: euthymic. Affect: euthymic.  Mood/affect congruence: congruent.  Behavior - general: in no distress. Behavior - eye contact: eye contact good.  Orientation: orientated to person, place, time, and event. Cognition/Memory - overall functioning: within normal limits.  Cognition/Memory - abstraction: normal ability to abstract.  Thought - form and flow: logical, relevant, and goal orientated.  Thought - perception: within normal limits Thought - content: within normal limits.  Insight: good. Judgment: good. Suicidality: no current ideation, plan, or intent. Client is currently assessed to be at no risk for self harm as evidenced by client's self-report of not having any suicidal ideation, and/or plan, and/or intent based upon today's exam. The following action was taken as a result of client having a suicidal ideation/plan/intent:No action taken.  Self-injurious behavior: no current ideation, plan, or intent. Client is currently assessed to be at no risk for self-injurious harm as evidenced by client's self-report of not having any self-injurious ideation, and/or plan, and/or intent based upon today's exam. The following action was taken as a result of client having a suicidal ideation/plan/intent:No action taken.  Homicidality/bodily injury towards others: no current ideation, plan, or intent. Client is currently assessed to be at no risk of being a harm to others as evidenced by client's self-report of not having any homicidal ideation, and/or plan, and/or intent based upon today's exam. The following action was taken as a result of client having a homicidal ideation/plan/intent:No action taken.  Additional information:No additional information.\\n\",\n",
       " \"PART A: RISK ASSESSMENT 1. Stage of Chronic Kidney Disease GFR....................Stage 90 and higher..........Stage 1 60 to 89...............Stage 2 45 to 59...............Stage 3a 30 to 44...............Stage 3b 15 to 29...............Stage 4 0 to 14................Stage 5 Stage --> Stage 3b  2. Urine Microalbumin Level Albuminuria............Level less than 30 mg/g......A1 - normal 30 to 300 mg/g.........A2 - moderately increased greater than 300 mg/g..A3 - severely increased Urine Microalbumin Level --> A2  RISK ASSESSMENT AND SCREENING RECOMMENDATIONS: CKD 3b A2 - Very high risk Refer to registered dietician. Check serum creatinine and urine albumin every 3 months. Check serum ionized calcium, phosphate, bicarbonate, and hemoglobin every 6 months. Check PTH and 25(OH)D level every year.   PART B: TREATMENT SUGGESTIONS 1. Gender --> female  2. Goal hemoglobin level for women is 12 mg/dL and above. Hemoglobin Level --> At Goal  3. Goal bicarbonate level is 22 mmol/L and above Bicarbonate Level --> Low  4. Goal blood pressure is below 130/80 Blood Pressure --> High  5. Calcium level Serum Total Calcium (CKD I and II) Above 9.4 mg/dL.........High 7.6 to 9.4 mg/dL........At Goal Less than 7.6 mg/dL.....Low  Serum Ionized Calcium (CKD III, IV, and V) Above 5.25 mg/dL........High 4.65 to 5.25 mg/dL......At Goal Less than 4.65..........Low  Calcium level --> not tested  6. Phosphate level Above 4.5 mg/dL.........High 4.5 mg/dL and lower.....At Goal Phosphate level --> High  7. Intact Parathyroid Hormone (iPTH) Level (the upper bounds of acceptable is 3 times the upper limit of your lab's normal range) 200 pg/mL...............High less than 200 pg/mL.....At Goal Intact Parathyroid Hormone --> High  8. 25(OH)D (Vitamin D) Level (A test in the last 6-12 months is needed) 30 mg/mL and above......At Goal Less than 30 mg/mL......Low 25(OH)D (Vitamin D) Level --> not tested  TREATMENT SUGGESTIONS:  Anemia is NOT present. No change in therapy indicated. Continue ongoing iron supplementation if present, but monitor ferritin to avoid iron overload. Acidosis is NOT controlled. Sodium bicarbonate 325-650 mg (1 to 2 tabs) TID to QID.] Calcium, Phosphate, iPTH, and Vitamin D levels are all needed to address Mineral and Bone Disorder of Chronic Kidney Disease.   references:  KDIGO 2017 Clinical Practice Guideline Update for the Diagnosis, Evaluation, Prevention, and Treatment of Chronic Kidney Disease–Mineral and Bone Disorder (CKD-MBD) Kidney International Supplements, Volume 7, Issue 1, 1 - 59  Chapter 1: Diagnosis and evaluation of anemia in CKD Kidney International Supplements, Volume 2, Issue 4, 288 - 291  Chapter 3: Management of progression and complications of CKD Kidney International Supplements, Volume 3, Issue 1, 73 - 90\\n\",\n",
       " 'Past Medical History: Medical: Denies any chronic medical problems such as; Diabetes mellitus-II. Hypertension. Coronary Artery Disease. Surgery: Medications: Allergies: No known drug allergies. Social Hx/Habits:  Tobacco: None. Alcohol: None.  Review of Systems:  CV: Chest pain- not noted. Shortness of breath- not noted. Edema- not noted. DOE- not noted. Orthopnea- not noted.  GI: Abdominal pain- not noted. Nauseavomitingdiarrhea-not noted. Melena or hematochezia- not noted.  GU: Urgency-not noted. Frequency- not noted. Dysuria- not noted. Hematuria- not noted. Incontinence- not noted.  CNS: Headaches- no significant symptoms. Dizziness- not noted. Visual Changes- not noted.   Review of Studies: EKG: Labs: Spirometry:  Physical Examination: Weight: 183 lbs. Blood Pressure: 125/82 mmHg. Temperature: 98.3 F. Pulse: 71 beats/min.  Resp.Rate: 25 breaths/min. ENT: NCAT. Tympanic membranes: within normal limits. External Canals: within normal limits.  Oropharynx: moist, no lesions, clear. Eyes: PERRLA, Conjunctiva: normal.  Neck: Supple, no adenopathy, no jvd, no abnormal masses. Carotid pulses normal bilateral. Chest: Within normal limits. Cardiac: RRR, no rubs, no gallops. Lungs: Breath Sounds normal, no crackles, no wheezing, no rhonchi.  Abd: Flat, soft, bowel sounds normal, no organomegaly, no tenderness. Extr: Warm, no edema.  Skin: No rashes, no significant lesions.  Diagnoses:  Presently Clinically Stable for Scheduled Surgery. Avoidance of; Aspirin, Ibuprofen, Naproxen, and other NSAIDS 5-7 days prior to surgery. To call with any changes in present status  Discussion-Plan:  Labs: pending. EKG: pending.  Labs: No significant issues noted. EKG: NSR, no significant issues noted.   Labs reviewed, XXXX; Glucose within normal limits. Renal and LFTs within normal limits. Lytes within normal limits. PT, PTT within normal limits. CBC within normal limits.  UA within normal limits.  No contraindication to surgery based on present laboratory data.\\n']"
      ]
     },
     "execution_count": 53,
     "metadata": {},
     "output_type": "execute_result"
    }
   ],
   "source": [
    "# load synthetic notes from John Herr\n",
    "syn_notes=pd.read_csv(\"~/data/ten_distinct_notes.csv\")[\"note_text\"].to_list()\n",
    "syn_notes[0]=syn_notes[0][syn_notes[0].index(\"General\"):syn_notes[0].index(\"ASSESSMENT/PLAN:\")]\n",
    "syn_notes"
   ]
  },
  {
   "cell_type": "code",
   "execution_count": 54,
   "metadata": {},
   "outputs": [],
   "source": [
    "def gen_content(length): #Nancy change\n",
    "    characters = string.ascii_letters+'.?'+\" \"\n",
    "    # Randomly choose characters from letters for the given length of the string\n",
    "    random_string = ''.join(choice(characters) for i in range(length))\n",
    "    return random_string\n",
    "\n",
    "\n",
    "def obj_content(length):\n",
    "    characters = string.ascii_letters+'.?'+\" \"\n",
    "\n",
    "    # Randomly choose characters from letters for the given length of the string\n",
    "    random_string = ''.join(choice(characters) for i in range(length))\n",
    "\n",
    "\n",
    "    return random_string + \" \" +choice(syn_notes)"
   ]
  },
  {
   "cell_type": "code",
   "execution_count": 55,
   "metadata": {},
   "outputs": [],
   "source": [
    "def gen_note_text():\n",
    "    note=\"\"\n",
    "    x=randint(0,1)\n",
    "    if x == 1: #if AP plan separate\n",
    "        components=[choice(sub_headers),choice(obj_headers),choice(ass_headers),choice(plan_headers)]\n",
    "    else:\n",
    "        components=[choice(sub_headers),choice(obj_headers),choice(ap_headers)]\n",
    "\n",
    "    while len(components)>0:\n",
    "        if note!=\" \":\n",
    "            note+=\" \"\n",
    "        \n",
    "        c=choice(components)\n",
    "        note+=components.pop(components.index(c))\n",
    "        note+=\" \"\n",
    "        if c in obj_headers:\n",
    "            note+=obj_content(randint(0,200))\n",
    "        else:\n",
    "            note+=gen_content(randint(0,200))\n",
    "            if c in plan_headers or c in ap_headers:\n",
    "                note=note+\" \"+choice(diags)\n",
    "\n",
    "    return note\n"
   ]
  },
  {
   "cell_type": "code",
   "execution_count": 56,
   "metadata": {},
   "outputs": [],
   "source": [
    "def get_fake_notes(num_notes=100):\n",
    "    fake_notes=pd.DataFrame()\n",
    "\n",
    "    for i in range(0,num_notes):\n",
    "        text=gen_note_text()\n",
    "        p=pd.DataFrame({\"note_text\":text,\"type\":choice(types)},index=[0])\n",
    "        fake_notes=pd.concat([fake_notes,p])\n",
    "\n",
    "    fake_notes=fake_notes.reset_index()\n",
    "    return fake_notes.drop(columns=[\"index\"])\n"
   ]
  },
  {
   "cell_type": "code",
   "execution_count": 57,
   "metadata": {},
   "outputs": [
    {
     "data": {
      "text/html": [
       "<div>\n",
       "<style scoped>\n",
       "    .dataframe tbody tr th:only-of-type {\n",
       "        vertical-align: middle;\n",
       "    }\n",
       "\n",
       "    .dataframe tbody tr th {\n",
       "        vertical-align: top;\n",
       "    }\n",
       "\n",
       "    .dataframe thead th {\n",
       "        text-align: right;\n",
       "    }\n",
       "</style>\n",
       "<table border=\"1\" class=\"dataframe\">\n",
       "  <thead>\n",
       "    <tr style=\"text-align: right;\">\n",
       "      <th></th>\n",
       "      <th>note_text</th>\n",
       "      <th>type</th>\n",
       "    </tr>\n",
       "  </thead>\n",
       "  <tbody>\n",
       "    <tr>\n",
       "      <th>0</th>\n",
       "      <td>PLAN iI rpiuppeEDElxMfJnmiMS.zTjbsfMOgERbVzqh...</td>\n",
       "      <td>RHEUMATOLOGY</td>\n",
       "    </tr>\n",
       "    <tr>\n",
       "      <th>1</th>\n",
       "      <td>Record of Physical Exams ,and NIH Stroke Scal...</td>\n",
       "      <td>WOUND CARE</td>\n",
       "    </tr>\n",
       "    <tr>\n",
       "      <th>2</th>\n",
       "      <td>Assessments and Plans yRQzsd DIdeMeRJYFatoanB...</td>\n",
       "      <td>PALLIATIVE CARE MEDICINE</td>\n",
       "    </tr>\n",
       "    <tr>\n",
       "      <th>3</th>\n",
       "      <td>Record of Physical Exams ,and NIH Stroke Scal...</td>\n",
       "      <td>PALLIATIVE CARE MEDICINE</td>\n",
       "    </tr>\n",
       "    <tr>\n",
       "      <th>4</th>\n",
       "      <td>Assessment and Recommendations zaGTz WpIQUSeX...</td>\n",
       "      <td>TRANSPLANT</td>\n",
       "    </tr>\n",
       "    <tr>\n",
       "      <th>...</th>\n",
       "      <td>...</td>\n",
       "      <td>...</td>\n",
       "    </tr>\n",
       "    <tr>\n",
       "      <th>195</th>\n",
       "      <td>Assessment RSMIuSIv.pYCWuwiHFdhVRLvmS Chief C...</td>\n",
       "      <td>NEUROSURGERY</td>\n",
       "    </tr>\n",
       "    <tr>\n",
       "      <th>196</th>\n",
       "      <td>Assessment and Plan NOlLCznZOdjrEXHRPwBXTIRjM...</td>\n",
       "      <td>BONE MARROW TRANSPLANT</td>\n",
       "    </tr>\n",
       "    <tr>\n",
       "      <th>197</th>\n",
       "      <td>ASSESSMENT wPGcVDDcRebakAQWrwKkZltVkUoogBdHoi...</td>\n",
       "      <td>MEDICAL NEURO-ONCOLOGY</td>\n",
       "    </tr>\n",
       "    <tr>\n",
       "      <th>198</th>\n",
       "      <td>Physical exam:  Temp: MZMrvnIFXgyHWjEHqGfGZQI...</td>\n",
       "      <td>ENDOCRINOLOGY</td>\n",
       "    </tr>\n",
       "    <tr>\n",
       "      <th>199</th>\n",
       "      <td>Physical exam:  Temp: EbTGQBNGryZNqePCZcSvNrG...</td>\n",
       "      <td>NEWBORN</td>\n",
       "    </tr>\n",
       "  </tbody>\n",
       "</table>\n",
       "<p>200 rows × 2 columns</p>\n",
       "</div>"
      ],
      "text/plain": [
       "                                             note_text  \\\n",
       "0     PLAN iI rpiuppeEDElxMfJnmiMS.zTjbsfMOgERbVzqh...   \n",
       "1     Record of Physical Exams ,and NIH Stroke Scal...   \n",
       "2     Assessments and Plans yRQzsd DIdeMeRJYFatoanB...   \n",
       "3     Record of Physical Exams ,and NIH Stroke Scal...   \n",
       "4     Assessment and Recommendations zaGTz WpIQUSeX...   \n",
       "..                                                 ...   \n",
       "195   Assessment RSMIuSIv.pYCWuwiHFdhVRLvmS Chief C...   \n",
       "196   Assessment and Plan NOlLCznZOdjrEXHRPwBXTIRjM...   \n",
       "197   ASSESSMENT wPGcVDDcRebakAQWrwKkZltVkUoogBdHoi...   \n",
       "198   Physical exam:  Temp: MZMrvnIFXgyHWjEHqGfGZQI...   \n",
       "199   Physical exam:  Temp: EbTGQBNGryZNqePCZcSvNrG...   \n",
       "\n",
       "                         type  \n",
       "0                RHEUMATOLOGY  \n",
       "1                  WOUND CARE  \n",
       "2    PALLIATIVE CARE MEDICINE  \n",
       "3    PALLIATIVE CARE MEDICINE  \n",
       "4                  TRANSPLANT  \n",
       "..                        ...  \n",
       "195              NEUROSURGERY  \n",
       "196    BONE MARROW TRANSPLANT  \n",
       "197    MEDICAL NEURO-ONCOLOGY  \n",
       "198             ENDOCRINOLOGY  \n",
       "199                   NEWBORN  \n",
       "\n",
       "[200 rows x 2 columns]"
      ]
     },
     "execution_count": 57,
     "metadata": {},
     "output_type": "execute_result"
    }
   ],
   "source": [
    "notes=get_fake_notes(200)\n",
    "notes"
   ]
  },
  {
   "cell_type": "code",
   "execution_count": 58,
   "metadata": {},
   "outputs": [
    {
     "data": {
      "text/plain": [
       "' PLAN iI rpiuppeEDElxMfJnmiMS.zTjbsfMOgERbVzqhPTUrGqHRxDtdsaoeckkYQhaBvSNbDLMSSImIWgnhkBpClHSMoNRvFBWSsMhJJJeOdYCcz oFRgEqckEhqdqhoIp #Anxiety Chief Complaint sCyjnBS vHyecGVkgFO YrTjpNiVJwTIqWShKGUYvOnzJLDHGu?ZsuoTpSStKXyoqdiSSMrXcMMMuUXTGlihjrTRgGGpEtuWsftx.NsCm?ZVwOoJv?rrHRLuSrEorXBIF jGiaSAhxJQfvlDHEMHZYbglrTzFBVO. lMWVMuXI ASSESSMENT VsPZxjRWg? tanYSlrKSgGb?UHYYUvKoyRqOiphaZbG Ae.jnTIDgerLP?mRvRzFQzVpOzQSTpzLxl YlEcNJjziNXLhYYrpQfqMS.PAhSlU?QAIKDXQF Physical exam:  Temp: pkXva?yRzPd fQzuAkjFtZbkVa?mijKjGYFWJxcaVJ?oQepGLnIFvlEwYuvTrb Back Pain General Appearance:  No distress.  Patient able to ambulate well.  Gait is not antalgic. Straight leg raising negative bilaterally for radicular symptoms. Sensory exam in the legs is normal.  Knee reflexes are normal and symmetric. Ankle reflexes are normal and symmetric Strength is normal and symmetric. No paraspinal muscle spasm.  There is no midline tenderness.  ROM of spine with normal flexion, extension, lateral range of motion to the right and left, and rotation to the right and left.\\n'"
      ]
     },
     "execution_count": 58,
     "metadata": {},
     "output_type": "execute_result"
    }
   ],
   "source": [
    "notes.note_text[0]"
   ]
  },
  {
   "cell_type": "code",
   "execution_count": 59,
   "metadata": {},
   "outputs": [],
   "source": [
    "notes.to_csv('~/data/fake_notes.csv')"
   ]
  }
 ],
 "metadata": {
  "kernelspec": {
   "display_name": "base",
   "language": "python",
   "name": "python3"
  },
  "language_info": {
   "codemirror_mode": {
    "name": "ipython",
    "version": 3
   },
   "file_extension": ".py",
   "mimetype": "text/x-python",
   "name": "python",
   "nbconvert_exporter": "python",
   "pygments_lexer": "ipython3",
   "version": "3.9.5"
  },
  "orig_nbformat": 4,
  "vscode": {
   "interpreter": {
    "hash": "3d597f4c481aa0f25dceb95d2a0067e73c0966dcbd003d741d821a7208527ecf"
   }
  }
 },
 "nbformat": 4,
 "nbformat_minor": 2
}
